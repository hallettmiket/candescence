{
 "cells": [
  {
   "cell_type": "markdown",
   "metadata": {},
   "source": [
    "See `utils.py` for all the helper functions used in this tutorial."
   ]
  },
  {
   "cell_type": "code",
   "execution_count": 2,
   "metadata": {},
   "outputs": [
    {
     "name": "stderr",
     "output_type": "stream",
     "text": [
      "/home/van.bettauer/anaconda3/envs/open-mmlab-2/lib/python3.7/site-packages/mmcv/utils/registry.py:64: UserWarning: The old API of register_module(module, force=False) is deprecated and will be removed, please use the new API register_module(name=None, force=False, module=None) instead.\n",
      "  'The old API of register_module(module, force=False) '\n"
     ]
    }
   ],
   "source": [
    "from utils import *"
   ]
  },
  {
   "cell_type": "markdown",
   "metadata": {},
   "source": [
    "The first step is set the correct paths.  Make sure you have the data downloaded.  For the purposes of this tutorial, we will follow the file structure found at `csfg-algonquin.concordia.ca/~hallett/candescence/` (where you can also download the data).  We will assume you have the data downloaded into a folder called `candescence`."
   ]
  },
  {
   "cell_type": "markdown",
   "metadata": {},
   "source": [
    "The first path to set is the path to the config file used to train the model.  The config file contains all the parameters used for training the model, as well as additional architecture information.  For this tutorial, we will use the config file associated with our final model.  It can be found at `candescence/performance/exp27/training-of-model/exp27.py`"
   ]
  },
  {
   "cell_type": "code",
   "execution_count": 1,
   "metadata": {},
   "outputs": [],
   "source": [
    "CONFIG_PATH = \"candescence/performance/exp27/training-of-model/exp27.py\""
   ]
  },
  {
   "cell_type": "markdown",
   "metadata": {},
   "source": [
    "Next, we need the path to the weights of the trained model.  It can be found at `candescence/performance/exp27/training-of-model/final.pth`"
   ]
  },
  {
   "cell_type": "code",
   "execution_count": null,
   "metadata": {},
   "outputs": [],
   "source": [
    "MODEL_PATH = \"candescence/performance/exp27/training-of-model/final.pth\""
   ]
  },
  {
   "cell_type": "markdown",
   "metadata": {},
   "source": [
    "Finally, we need to provide the path to a directory containing the images you would like to run inference over. For this tutorial, we will use our validation images found at `candescence/varasana/train-validation/val/`"
   ]
  },
  {
   "cell_type": "code",
   "execution_count": 2,
   "metadata": {},
   "outputs": [],
   "source": [
    "DATA_PATH = \"candescence/varasana/train-validation/val/\""
   ]
  }
 ],
 "metadata": {
  "kernelspec": {
   "display_name": "Python 3",
   "language": "python",
   "name": "python3"
  },
  "language_info": {
   "codemirror_mode": {
    "name": "ipython",
    "version": 3
   },
   "file_extension": ".py",
   "mimetype": "text/x-python",
   "name": "python",
   "nbconvert_exporter": "python",
   "pygments_lexer": "ipython3",
   "version": "3.7.9"
  }
 },
 "nbformat": 4,
 "nbformat_minor": 4
}
